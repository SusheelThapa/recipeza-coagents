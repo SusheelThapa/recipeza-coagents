{
  "cells": [
    {
      "cell_type": "code",
      "execution_count": 1,
      "metadata": {
        "colab": {
          "base_uri": "https://localhost:8080/"
        },
        "id": "dvm5OSWq1vgR",
        "outputId": "cba66cfd-bac6-445b-8284-5b7d6110d9ce"
      },
      "outputs": [
        {
          "name": "stdout",
          "output_type": "stream",
          "text": [
            "Collecting langgraph\n",
            "  Downloading langgraph-0.2.34-py3-none-any.whl.metadata (13 kB)\n",
            "Collecting langchain-core<0.4,>=0.2.39 (from langgraph)\n",
            "  Downloading langchain_core-0.3.9-py3-none-any.whl.metadata (6.3 kB)\n",
            "Collecting langgraph-checkpoint<3.0.0,>=2.0.0 (from langgraph)\n",
            "  Downloading langgraph_checkpoint-2.0.0-py3-none-any.whl.metadata (4.6 kB)\n",
            "Requirement already satisfied: PyYAML>=5.3 in /usr/local/lib/python3.10/dist-packages (from langchain-core<0.4,>=0.2.39->langgraph) (6.0.2)\n",
            "Collecting jsonpatch<2.0,>=1.33 (from langchain-core<0.4,>=0.2.39->langgraph)\n",
            "  Downloading jsonpatch-1.33-py2.py3-none-any.whl.metadata (3.0 kB)\n",
            "Collecting langsmith<0.2.0,>=0.1.125 (from langchain-core<0.4,>=0.2.39->langgraph)\n",
            "  Downloading langsmith-0.1.131-py3-none-any.whl.metadata (13 kB)\n",
            "Requirement already satisfied: packaging<25,>=23.2 in /usr/local/lib/python3.10/dist-packages (from langchain-core<0.4,>=0.2.39->langgraph) (24.1)\n",
            "Requirement already satisfied: pydantic<3.0.0,>=2.5.2 in /usr/local/lib/python3.10/dist-packages (from langchain-core<0.4,>=0.2.39->langgraph) (2.9.2)\n",
            "Collecting tenacity!=8.4.0,<9.0.0,>=8.1.0 (from langchain-core<0.4,>=0.2.39->langgraph)\n",
            "  Downloading tenacity-8.5.0-py3-none-any.whl.metadata (1.2 kB)\n",
            "Requirement already satisfied: typing-extensions>=4.7 in /usr/local/lib/python3.10/dist-packages (from langchain-core<0.4,>=0.2.39->langgraph) (4.12.2)\n",
            "Collecting msgpack<2.0.0,>=1.1.0 (from langgraph-checkpoint<3.0.0,>=2.0.0->langgraph)\n",
            "  Downloading msgpack-1.1.0-cp310-cp310-manylinux_2_17_x86_64.manylinux2014_x86_64.whl.metadata (8.4 kB)\n",
            "Collecting jsonpointer>=1.9 (from jsonpatch<2.0,>=1.33->langchain-core<0.4,>=0.2.39->langgraph)\n",
            "  Downloading jsonpointer-3.0.0-py2.py3-none-any.whl.metadata (2.3 kB)\n",
            "Collecting httpx<1,>=0.23.0 (from langsmith<0.2.0,>=0.1.125->langchain-core<0.4,>=0.2.39->langgraph)\n",
            "  Downloading httpx-0.27.2-py3-none-any.whl.metadata (7.1 kB)\n",
            "Collecting orjson<4.0.0,>=3.9.14 (from langsmith<0.2.0,>=0.1.125->langchain-core<0.4,>=0.2.39->langgraph)\n",
            "  Downloading orjson-3.10.7-cp310-cp310-manylinux_2_17_x86_64.manylinux2014_x86_64.whl.metadata (50 kB)\n",
            "\u001b[2K     \u001b[90m━━━━━━━━━━━━━━━━━━━━━━━━━━━━━━━━━━━━━━━━\u001b[0m \u001b[32m50.4/50.4 kB\u001b[0m \u001b[31m671.8 kB/s\u001b[0m eta \u001b[36m0:00:00\u001b[0m\n",
            "\u001b[?25hRequirement already satisfied: requests<3,>=2 in /usr/local/lib/python3.10/dist-packages (from langsmith<0.2.0,>=0.1.125->langchain-core<0.4,>=0.2.39->langgraph) (2.32.3)\n",
            "Collecting requests-toolbelt<2.0.0,>=1.0.0 (from langsmith<0.2.0,>=0.1.125->langchain-core<0.4,>=0.2.39->langgraph)\n",
            "  Downloading requests_toolbelt-1.0.0-py2.py3-none-any.whl.metadata (14 kB)\n",
            "Requirement already satisfied: annotated-types>=0.6.0 in /usr/local/lib/python3.10/dist-packages (from pydantic<3.0.0,>=2.5.2->langchain-core<0.4,>=0.2.39->langgraph) (0.7.0)\n",
            "Requirement already satisfied: pydantic-core==2.23.4 in /usr/local/lib/python3.10/dist-packages (from pydantic<3.0.0,>=2.5.2->langchain-core<0.4,>=0.2.39->langgraph) (2.23.4)\n",
            "Requirement already satisfied: anyio in /usr/local/lib/python3.10/dist-packages (from httpx<1,>=0.23.0->langsmith<0.2.0,>=0.1.125->langchain-core<0.4,>=0.2.39->langgraph) (3.7.1)\n",
            "Requirement already satisfied: certifi in /usr/local/lib/python3.10/dist-packages (from httpx<1,>=0.23.0->langsmith<0.2.0,>=0.1.125->langchain-core<0.4,>=0.2.39->langgraph) (2024.8.30)\n",
            "Collecting httpcore==1.* (from httpx<1,>=0.23.0->langsmith<0.2.0,>=0.1.125->langchain-core<0.4,>=0.2.39->langgraph)\n",
            "  Downloading httpcore-1.0.6-py3-none-any.whl.metadata (21 kB)\n",
            "Requirement already satisfied: idna in /usr/local/lib/python3.10/dist-packages (from httpx<1,>=0.23.0->langsmith<0.2.0,>=0.1.125->langchain-core<0.4,>=0.2.39->langgraph) (3.10)\n",
            "Requirement already satisfied: sniffio in /usr/local/lib/python3.10/dist-packages (from httpx<1,>=0.23.0->langsmith<0.2.0,>=0.1.125->langchain-core<0.4,>=0.2.39->langgraph) (1.3.1)\n",
            "Collecting h11<0.15,>=0.13 (from httpcore==1.*->httpx<1,>=0.23.0->langsmith<0.2.0,>=0.1.125->langchain-core<0.4,>=0.2.39->langgraph)\n",
            "  Downloading h11-0.14.0-py3-none-any.whl.metadata (8.2 kB)\n",
            "Requirement already satisfied: charset-normalizer<4,>=2 in /usr/local/lib/python3.10/dist-packages (from requests<3,>=2->langsmith<0.2.0,>=0.1.125->langchain-core<0.4,>=0.2.39->langgraph) (3.3.2)\n",
            "Requirement already satisfied: urllib3<3,>=1.21.1 in /usr/local/lib/python3.10/dist-packages (from requests<3,>=2->langsmith<0.2.0,>=0.1.125->langchain-core<0.4,>=0.2.39->langgraph) (2.2.3)\n",
            "Requirement already satisfied: exceptiongroup in /usr/local/lib/python3.10/dist-packages (from anyio->httpx<1,>=0.23.0->langsmith<0.2.0,>=0.1.125->langchain-core<0.4,>=0.2.39->langgraph) (1.2.2)\n",
            "Downloading langgraph-0.2.34-py3-none-any.whl (107 kB)\n",
            "\u001b[2K   \u001b[90m━━━━━━━━━━━━━━━━━━━━━━━━━━━━━━━━━━━━━━━━\u001b[0m \u001b[32m107.4/107.4 kB\u001b[0m \u001b[31m4.0 MB/s\u001b[0m eta \u001b[36m0:00:00\u001b[0m\n",
            "\u001b[?25hDownloading langchain_core-0.3.9-py3-none-any.whl (401 kB)\n",
            "\u001b[2K   \u001b[90m━━━━━━━━━━━━━━━━━━━━━━━━━━━━━━━━━━━━━━━━\u001b[0m \u001b[32m401.8/401.8 kB\u001b[0m \u001b[31m7.1 MB/s\u001b[0m eta \u001b[36m0:00:00\u001b[0m\n",
            "\u001b[?25hDownloading langgraph_checkpoint-2.0.0-py3-none-any.whl (22 kB)\n",
            "Downloading jsonpatch-1.33-py2.py3-none-any.whl (12 kB)\n",
            "Downloading langsmith-0.1.131-py3-none-any.whl (294 kB)\n",
            "\u001b[2K   \u001b[90m━━━━━━━━━━━━━━━━━━━━━━━━━━━━━━━━━━━━━━━━\u001b[0m \u001b[32m294.6/294.6 kB\u001b[0m \u001b[31m6.1 MB/s\u001b[0m eta \u001b[36m0:00:00\u001b[0m\n",
            "\u001b[?25hDownloading msgpack-1.1.0-cp310-cp310-manylinux_2_17_x86_64.manylinux2014_x86_64.whl (378 kB)\n",
            "\u001b[2K   \u001b[90m━━━━━━━━━━━━━━━━━━━━━━━━━━━━━━━━━━━━━━━━\u001b[0m \u001b[32m378.0/378.0 kB\u001b[0m \u001b[31m10.9 MB/s\u001b[0m eta \u001b[36m0:00:00\u001b[0m\n",
            "\u001b[?25hDownloading tenacity-8.5.0-py3-none-any.whl (28 kB)\n",
            "Downloading httpx-0.27.2-py3-none-any.whl (76 kB)\n",
            "\u001b[2K   \u001b[90m━━━━━━━━━━━━━━━━━━━━━━━━━━━━━━━━━━━━━━━━\u001b[0m \u001b[32m76.4/76.4 kB\u001b[0m \u001b[31m3.4 MB/s\u001b[0m eta \u001b[36m0:00:00\u001b[0m\n",
            "\u001b[?25hDownloading httpcore-1.0.6-py3-none-any.whl (78 kB)\n",
            "\u001b[2K   \u001b[90m━━━━━━━━━━━━━━━━━━━━━━━━━━━━━━━━━━━━━━━━\u001b[0m \u001b[32m78.0/78.0 kB\u001b[0m \u001b[31m2.1 MB/s\u001b[0m eta \u001b[36m0:00:00\u001b[0m\n",
            "\u001b[?25hDownloading jsonpointer-3.0.0-py2.py3-none-any.whl (7.6 kB)\n",
            "Downloading orjson-3.10.7-cp310-cp310-manylinux_2_17_x86_64.manylinux2014_x86_64.whl (141 kB)\n",
            "\u001b[2K   \u001b[90m━━━━━━━━━━━━━━━━━━━━━━━━━━━━━━━━━━━━━━━━\u001b[0m \u001b[32m141.9/141.9 kB\u001b[0m \u001b[31m6.5 MB/s\u001b[0m eta \u001b[36m0:00:00\u001b[0m\n",
            "\u001b[?25hDownloading requests_toolbelt-1.0.0-py2.py3-none-any.whl (54 kB)\n",
            "\u001b[2K   \u001b[90m━━━━━━━━━━━━━━━━━━━━━━━━━━━━━━━━━━━━━━━━\u001b[0m \u001b[32m54.5/54.5 kB\u001b[0m \u001b[31m2.3 MB/s\u001b[0m eta \u001b[36m0:00:00\u001b[0m\n",
            "\u001b[?25hDownloading h11-0.14.0-py3-none-any.whl (58 kB)\n",
            "\u001b[2K   \u001b[90m━━━━━━━━━━━━━━━━━━━━━━━━━━━━━━━━━━━━━━━━\u001b[0m \u001b[32m58.3/58.3 kB\u001b[0m \u001b[31m2.3 MB/s\u001b[0m eta \u001b[36m0:00:00\u001b[0m\n",
            "\u001b[?25hInstalling collected packages: tenacity, orjson, msgpack, jsonpointer, h11, requests-toolbelt, jsonpatch, httpcore, httpx, langsmith, langchain-core, langgraph-checkpoint, langgraph\n",
            "  Attempting uninstall: tenacity\n",
            "    Found existing installation: tenacity 9.0.0\n",
            "    Uninstalling tenacity-9.0.0:\n",
            "      Successfully uninstalled tenacity-9.0.0\n",
            "  Attempting uninstall: msgpack\n",
            "    Found existing installation: msgpack 1.0.8\n",
            "    Uninstalling msgpack-1.0.8:\n",
            "      Successfully uninstalled msgpack-1.0.8\n",
            "Successfully installed h11-0.14.0 httpcore-1.0.6 httpx-0.27.2 jsonpatch-1.33 jsonpointer-3.0.0 langchain-core-0.3.9 langgraph-0.2.34 langgraph-checkpoint-2.0.0 langsmith-0.1.131 msgpack-1.1.0 orjson-3.10.7 requests-toolbelt-1.0.0 tenacity-8.5.0\n"
          ]
        }
      ],
      "source": [
        "!pip install langgraph"
      ]
    },
    {
      "cell_type": "code",
      "execution_count": 2,
      "metadata": {
        "colab": {
          "base_uri": "https://localhost:8080/"
        },
        "id": "Spwv7tIYD6Z_",
        "outputId": "1822ccde-11c1-4c4a-a718-22dd0f653934"
      },
      "outputs": [
        {
          "name": "stdout",
          "output_type": "stream",
          "text": [
            "Collecting langchain\n",
            "  Downloading langchain-0.3.2-py3-none-any.whl.metadata (7.1 kB)\n",
            "Collecting langchain_openai\n",
            "  Downloading langchain_openai-0.2.2-py3-none-any.whl.metadata (2.6 kB)\n",
            "Requirement already satisfied: PyYAML>=5.3 in /usr/local/lib/python3.10/dist-packages (from langchain) (6.0.2)\n",
            "Requirement already satisfied: SQLAlchemy<3,>=1.4 in /usr/local/lib/python3.10/dist-packages (from langchain) (2.0.35)\n",
            "Requirement already satisfied: aiohttp<4.0.0,>=3.8.3 in /usr/local/lib/python3.10/dist-packages (from langchain) (3.10.8)\n",
            "Requirement already satisfied: async-timeout<5.0.0,>=4.0.0 in /usr/local/lib/python3.10/dist-packages (from langchain) (4.0.3)\n",
            "Requirement already satisfied: langchain-core<0.4.0,>=0.3.8 in /usr/local/lib/python3.10/dist-packages (from langchain) (0.3.9)\n",
            "Collecting langchain-text-splitters<0.4.0,>=0.3.0 (from langchain)\n",
            "  Downloading langchain_text_splitters-0.3.0-py3-none-any.whl.metadata (2.3 kB)\n",
            "Requirement already satisfied: langsmith<0.2.0,>=0.1.17 in /usr/local/lib/python3.10/dist-packages (from langchain) (0.1.131)\n",
            "Requirement already satisfied: numpy<2,>=1 in /usr/local/lib/python3.10/dist-packages (from langchain) (1.26.4)\n",
            "Requirement already satisfied: pydantic<3.0.0,>=2.7.4 in /usr/local/lib/python3.10/dist-packages (from langchain) (2.9.2)\n",
            "Requirement already satisfied: requests<3,>=2 in /usr/local/lib/python3.10/dist-packages (from langchain) (2.32.3)\n",
            "Requirement already satisfied: tenacity!=8.4.0,<9.0.0,>=8.1.0 in /usr/local/lib/python3.10/dist-packages (from langchain) (8.5.0)\n",
            "Collecting openai<2.0.0,>=1.40.0 (from langchain_openai)\n",
            "  Downloading openai-1.51.0-py3-none-any.whl.metadata (24 kB)\n",
            "Collecting tiktoken<1,>=0.7 (from langchain_openai)\n",
            "  Downloading tiktoken-0.8.0-cp310-cp310-manylinux_2_17_x86_64.manylinux2014_x86_64.whl.metadata (6.6 kB)\n",
            "Requirement already satisfied: aiohappyeyeballs>=2.3.0 in /usr/local/lib/python3.10/dist-packages (from aiohttp<4.0.0,>=3.8.3->langchain) (2.4.3)\n",
            "Requirement already satisfied: aiosignal>=1.1.2 in /usr/local/lib/python3.10/dist-packages (from aiohttp<4.0.0,>=3.8.3->langchain) (1.3.1)\n",
            "Requirement already satisfied: attrs>=17.3.0 in /usr/local/lib/python3.10/dist-packages (from aiohttp<4.0.0,>=3.8.3->langchain) (24.2.0)\n",
            "Requirement already satisfied: frozenlist>=1.1.1 in /usr/local/lib/python3.10/dist-packages (from aiohttp<4.0.0,>=3.8.3->langchain) (1.4.1)\n",
            "Requirement already satisfied: multidict<7.0,>=4.5 in /usr/local/lib/python3.10/dist-packages (from aiohttp<4.0.0,>=3.8.3->langchain) (6.1.0)\n",
            "Requirement already satisfied: yarl<2.0,>=1.12.0 in /usr/local/lib/python3.10/dist-packages (from aiohttp<4.0.0,>=3.8.3->langchain) (1.13.1)\n",
            "Requirement already satisfied: jsonpatch<2.0,>=1.33 in /usr/local/lib/python3.10/dist-packages (from langchain-core<0.4.0,>=0.3.8->langchain) (1.33)\n",
            "Requirement already satisfied: packaging<25,>=23.2 in /usr/local/lib/python3.10/dist-packages (from langchain-core<0.4.0,>=0.3.8->langchain) (24.1)\n",
            "Requirement already satisfied: typing-extensions>=4.7 in /usr/local/lib/python3.10/dist-packages (from langchain-core<0.4.0,>=0.3.8->langchain) (4.12.2)\n",
            "Requirement already satisfied: httpx<1,>=0.23.0 in /usr/local/lib/python3.10/dist-packages (from langsmith<0.2.0,>=0.1.17->langchain) (0.27.2)\n",
            "Requirement already satisfied: orjson<4.0.0,>=3.9.14 in /usr/local/lib/python3.10/dist-packages (from langsmith<0.2.0,>=0.1.17->langchain) (3.10.7)\n",
            "Requirement already satisfied: requests-toolbelt<2.0.0,>=1.0.0 in /usr/local/lib/python3.10/dist-packages (from langsmith<0.2.0,>=0.1.17->langchain) (1.0.0)\n",
            "Requirement already satisfied: anyio<5,>=3.5.0 in /usr/local/lib/python3.10/dist-packages (from openai<2.0.0,>=1.40.0->langchain_openai) (3.7.1)\n",
            "Requirement already satisfied: distro<2,>=1.7.0 in /usr/lib/python3/dist-packages (from openai<2.0.0,>=1.40.0->langchain_openai) (1.7.0)\n",
            "Collecting jiter<1,>=0.4.0 (from openai<2.0.0,>=1.40.0->langchain_openai)\n",
            "  Downloading jiter-0.5.0-cp310-cp310-manylinux_2_17_x86_64.manylinux2014_x86_64.whl.metadata (3.6 kB)\n",
            "Requirement already satisfied: sniffio in /usr/local/lib/python3.10/dist-packages (from openai<2.0.0,>=1.40.0->langchain_openai) (1.3.1)\n",
            "Requirement already satisfied: tqdm>4 in /usr/local/lib/python3.10/dist-packages (from openai<2.0.0,>=1.40.0->langchain_openai) (4.66.5)\n",
            "Requirement already satisfied: annotated-types>=0.6.0 in /usr/local/lib/python3.10/dist-packages (from pydantic<3.0.0,>=2.7.4->langchain) (0.7.0)\n",
            "Requirement already satisfied: pydantic-core==2.23.4 in /usr/local/lib/python3.10/dist-packages (from pydantic<3.0.0,>=2.7.4->langchain) (2.23.4)\n",
            "Requirement already satisfied: charset-normalizer<4,>=2 in /usr/local/lib/python3.10/dist-packages (from requests<3,>=2->langchain) (3.3.2)\n",
            "Requirement already satisfied: idna<4,>=2.5 in /usr/local/lib/python3.10/dist-packages (from requests<3,>=2->langchain) (3.10)\n",
            "Requirement already satisfied: urllib3<3,>=1.21.1 in /usr/local/lib/python3.10/dist-packages (from requests<3,>=2->langchain) (2.2.3)\n",
            "Requirement already satisfied: certifi>=2017.4.17 in /usr/local/lib/python3.10/dist-packages (from requests<3,>=2->langchain) (2024.8.30)\n",
            "Requirement already satisfied: greenlet!=0.4.17 in /usr/local/lib/python3.10/dist-packages (from SQLAlchemy<3,>=1.4->langchain) (3.1.1)\n",
            "Requirement already satisfied: regex>=2022.1.18 in /usr/local/lib/python3.10/dist-packages (from tiktoken<1,>=0.7->langchain_openai) (2024.9.11)\n",
            "Requirement already satisfied: exceptiongroup in /usr/local/lib/python3.10/dist-packages (from anyio<5,>=3.5.0->openai<2.0.0,>=1.40.0->langchain_openai) (1.2.2)\n",
            "Requirement already satisfied: httpcore==1.* in /usr/local/lib/python3.10/dist-packages (from httpx<1,>=0.23.0->langsmith<0.2.0,>=0.1.17->langchain) (1.0.6)\n",
            "Requirement already satisfied: h11<0.15,>=0.13 in /usr/local/lib/python3.10/dist-packages (from httpcore==1.*->httpx<1,>=0.23.0->langsmith<0.2.0,>=0.1.17->langchain) (0.14.0)\n",
            "Requirement already satisfied: jsonpointer>=1.9 in /usr/local/lib/python3.10/dist-packages (from jsonpatch<2.0,>=1.33->langchain-core<0.4.0,>=0.3.8->langchain) (3.0.0)\n",
            "Downloading langchain-0.3.2-py3-none-any.whl (1.0 MB)\n",
            "\u001b[2K   \u001b[90m━━━━━━━━━━━━━━━━━━━━━━━━━━━━━━━━━━━━━━━━\u001b[0m \u001b[32m1.0/1.0 MB\u001b[0m \u001b[31m12.1 MB/s\u001b[0m eta \u001b[36m0:00:00\u001b[0m\n",
            "\u001b[?25hDownloading langchain_openai-0.2.2-py3-none-any.whl (49 kB)\n",
            "\u001b[2K   \u001b[90m━━━━━━━━━━━━━━━━━━━━━━━━━━━━━━━━━━━━━━━━\u001b[0m \u001b[32m49.7/49.7 kB\u001b[0m \u001b[31m3.3 MB/s\u001b[0m eta \u001b[36m0:00:00\u001b[0m\n",
            "\u001b[?25hDownloading langchain_text_splitters-0.3.0-py3-none-any.whl (25 kB)\n",
            "Downloading openai-1.51.0-py3-none-any.whl (383 kB)\n",
            "\u001b[2K   \u001b[90m━━━━━━━━━━━━━━━━━━━━━━━━━━━━━━━━━━━━━━━━\u001b[0m \u001b[32m383.5/383.5 kB\u001b[0m \u001b[31m26.2 MB/s\u001b[0m eta \u001b[36m0:00:00\u001b[0m\n",
            "\u001b[?25hDownloading tiktoken-0.8.0-cp310-cp310-manylinux_2_17_x86_64.manylinux2014_x86_64.whl (1.2 MB)\n",
            "\u001b[2K   \u001b[90m━━━━━━━━━━━━━━━━━━━━━━━━━━━━━━━━━━━━━━━━\u001b[0m \u001b[32m1.2/1.2 MB\u001b[0m \u001b[31m35.1 MB/s\u001b[0m eta \u001b[36m0:00:00\u001b[0m\n",
            "\u001b[?25hDownloading jiter-0.5.0-cp310-cp310-manylinux_2_17_x86_64.manylinux2014_x86_64.whl (318 kB)\n",
            "\u001b[2K   \u001b[90m━━━━━━━━━━━━━━━━━━━━━━━━━━━━━━━━━━━━━━━━\u001b[0m \u001b[32m318.9/318.9 kB\u001b[0m \u001b[31m9.6 MB/s\u001b[0m eta \u001b[36m0:00:00\u001b[0m\n",
            "\u001b[?25hInstalling collected packages: jiter, tiktoken, openai, langchain-text-splitters, langchain_openai, langchain\n",
            "Successfully installed jiter-0.5.0 langchain-0.3.2 langchain-text-splitters-0.3.0 langchain_openai-0.2.2 openai-1.51.0 tiktoken-0.8.0\n"
          ]
        }
      ],
      "source": [
        "!pip install langchain langchain_openai"
      ]
    },
    {
      "attachments": {},
      "cell_type": "markdown",
      "metadata": {
        "id": "t2FipzYZOE3T"
      },
      "source": [
        "## Set api key for OpenAI API"
      ]
    },
    {
      "cell_type": "code",
      "execution_count": 4,
      "metadata": {
        "id": "0JF-n1poN9TE"
      },
      "outputs": [],
      "source": [
        "openai_api_key = <NAGA_AI_API_KEY>\n",
        "# Set custom base URL for OpenAI API\n",
        "custom_base_url = \"https://api.naga.ac/v1\""
      ]
    },
    {
      "attachments": {},
      "cell_type": "markdown",
      "metadata": {
        "id": "XveDw3HNOQO8"
      },
      "source": [
        "# Declare Model"
      ]
    },
    {
      "cell_type": "code",
      "execution_count": 5,
      "metadata": {
        "colab": {
          "base_uri": "https://localhost:8080/"
        },
        "id": "V0C7wbDxD-pK",
        "outputId": "c8fd0b64-3749-485e-abe6-66490273fd93"
      },
      "outputs": [
        {
          "name": "stdout",
          "output_type": "stream",
          "text": [
            "Model Response with custom base URL: content='Hello! How can I assist you today?' additional_kwargs={'refusal': None} response_metadata={'token_usage': {'completion_tokens': 9, 'prompt_tokens': 9, 'total_tokens': 18, 'completion_tokens_details': {'audio_tokens': None, 'reasoning_tokens': 0}, 'prompt_tokens_details': None}, 'model_name': 'gpt-4o-mini-2024-07-18', 'system_fingerprint': 'fp_f85bea6784', 'finish_reason': 'stop', 'logprobs': None} id='run-98da2273-4967-44af-aedd-9803cdb44a5f-0' usage_metadata={'input_tokens': 9, 'output_tokens': 9, 'total_tokens': 18, 'input_token_details': {}, 'output_token_details': {'reasoning': 0}}\n"
          ]
        }
      ],
      "source": [
        "from langchain_openai import ChatOpenAI\n",
        "\n",
        "model = ChatOpenAI(model=\"gpt-4o-mini\",temperature=0, openai_api_key=openai_api_key, base_url=custom_base_url)\n",
        "\n",
        "response = model.invoke('Hey there')\n",
        "\n",
        "print(\"Model Response with custom base URL:\", response)\n"
      ]
    },
    {
      "attachments": {},
      "cell_type": "markdown",
      "metadata": {
        "id": "zLmcAYOFOWNj"
      },
      "source": [
        "## Declare agent state"
      ]
    },
    {
      "cell_type": "code",
      "execution_count": 6,
      "metadata": {
        "id": "B_Wy3pL6EDpi"
      },
      "outputs": [],
      "source": [
        "import requests\n",
        "AgentState = {}\n",
        "\n",
        "AgentState[\"messages\"] = []\n"
      ]
    },
    {
      "attachments": {},
      "cell_type": "markdown",
      "metadata": {
        "id": "5f3wJPs0OiF7"
      },
      "source": [
        "## Replace with your spoonacular API Key"
      ]
    },
    {
      "attachments": {},
      "cell_type": "markdown",
      "metadata": {
        "id": "kFsbcnpTOojj"
      },
      "source": []
    },
    {
      "cell_type": "code",
      "execution_count": 7,
      "metadata": {
        "id": "8uCLkSfyOcQE"
      },
      "outputs": [],
      "source": [
        "api_key = ''  # Replace with your actual Spoonacular API key"
      ]
    },
    {
      "attachments": {},
      "cell_type": "markdown",
      "metadata": {
        "id": "vJz3bwZGOuiL"
      },
      "source": [
        "## Define nodes for langraph"
      ]
    },
    {
      "attachments": {},
      "cell_type": "markdown",
      "metadata": {},
      "source": [
        "Function1 - extracts ingredients from the user query \n",
        "\n",
        "Function2 - calls spoonacular api to get recipe\n",
        "\n",
        "Function3 - returns the output of function1 in friendly way"
      ]
    },
    {
      "cell_type": "code",
      "execution_count": 8,
      "metadata": {
        "id": "6UuoVH7iE4Ie"
      },
      "outputs": [],
      "source": [
        "\n",
        "# Function 1: Extract the ingredients from user input\n",
        "def function_1(state):\n",
        "    messages = state['messages']\n",
        "    user_input = messages[-1]\n",
        "    complete_query = \"Your task is to provide only the ingredients mentioned in the user query. \\\n",
        "                    Nothing more, just the ingredients. Following is the user query: \" + user_input\n",
        "    response = model.invoke(complete_query)  # Langchain model or OpenAI call\n",
        "    state['messages'].append(response.content)  # append AIMessage response to AgentState\n",
        "    return state\n",
        "\n",
        "import requests\n",
        "\n",
        "# Function 2: Fetch recipe and display in cookbook format\n",
        "def function_2(state):\n",
        "    messages = state['messages']\n",
        "    ingredients = messages[-1]  # Get the ingredients extracted from the previous step\n",
        "\n",
        "    # Example: Call a recipe API like Spoonacular\n",
        "    url = f\"https://api.spoonacular.com/recipes/findByIngredients?ingredients={ingredients}&number=1&apiKey={api_key}\"\n",
        "    response = requests.get(url)\n",
        "\n",
        "    if response.status_code == 200:\n",
        "        recipe_data = response.json()\n",
        "        if recipe_data:\n",
        "            # Select the first recipe only\n",
        "            recipe = recipe_data[0]\n",
        "            recipe_id = recipe.get('id')\n",
        "\n",
        "            # Fetch detailed information for the recipe\n",
        "            details_url = f\"https://api.spoonacular.com/recipes/{recipe_id}/information?apiKey={api_key}\"\n",
        "            details_response = requests.get(details_url)\n",
        "\n",
        "            if details_response.status_code == 200:\n",
        "                details_data = details_response.json()\n",
        "                title = details_data.get('title', 'Unknown Title')\n",
        "                image = details_data.get('image', 'No image available')\n",
        "                ready_in_minutes = details_data.get('readyInMinutes', 'Unknown')\n",
        "                servings = details_data.get('servings', 'Unknown')\n",
        "                source_url = details_data.get('sourceUrl', 'No source available')\n",
        "\n",
        "                # Extract step-by-step instructions in a cookbook format\n",
        "                analyzed_instructions = details_data.get('analyzedInstructions', [])\n",
        "                steps = []\n",
        "                if analyzed_instructions:\n",
        "                    for instruction in analyzed_instructions:\n",
        "                        for step in instruction.get('steps', []):\n",
        "                            steps.append(f\"Step {step['number']}: {step['step']}\")\n",
        "\n",
        "                if not steps:\n",
        "                    steps.append(\"No instructions available\")\n",
        "\n",
        "                # Format the recipe information\n",
        "                recipe_info = (\n",
        "                    f\"**Recipe:** {title}\\n\"\n",
        "                    f\"**Image:** {image}\\n\"\n",
        "                    f\"**Ready in:** {ready_in_minutes} minutes\\n\"\n",
        "                    f\"**Servings:** {servings}\\n\"\n",
        "                    f\"**Source:** {source_url}\\n\\n\"\n",
        "                    \"**Step-by-Step Instructions:**\\n\"\n",
        "                    + \"\\n\".join(steps)\n",
        "                )\n",
        "            else:\n",
        "                recipe_info = \"Error fetching detailed recipe information.\"\n",
        "        else:\n",
        "            recipe_info = \"No recipe found for the given ingredients.\"\n",
        "    else:\n",
        "        recipe_info = \"Error fetching the recipe.\"\n",
        "\n",
        "    state['messages'].append(recipe_info)\n",
        "    return state\n",
        "\n",
        "# Function 3: Format the output for the user\n",
        "def function_3(state):\n",
        "    messages = state['messages']\n",
        "    user_input = messages[0]  # Initial user query\n",
        "    available_info = messages[-1]  # Recipe fetched from API\n",
        "\n",
        "    agent2_query = f\"Your task is to format the recipe in a user-friendly way based on the user query: {user_input} \\\n",
        "                    Available recipe: {available_info}\"\n",
        "    response = model.invoke(agent2_query)  # Formatting response from the model (Langchain or OpenAI)\n",
        "\n",
        "    return response.content\n"
      ]
    },
    {
      "attachments": {},
      "cell_type": "markdown",
      "metadata": {
        "id": "3bnIaIkYO0jb"
      },
      "source": [
        "## Define Langraph Workflow"
      ]
    },
    {
      "cell_type": "code",
      "execution_count": 9,
      "metadata": {
        "id": "xSFI_iAfFfey"
      },
      "outputs": [],
      "source": [
        "from langgraph.graph import Graph\n",
        "\n",
        "workflow = Graph()\n",
        "\n",
        "# Adding nodes for each function\n",
        "workflow.add_node(\"extract_ingredients\", function_1)\n",
        "workflow.add_node(\"fetch_recipe\", function_2)\n",
        "workflow.add_node(\"format_response\", function_3)\n",
        "\n",
        "# Define the edges between the nodes\n",
        "workflow.add_edge('extract_ingredients', 'fetch_recipe')\n",
        "workflow.add_edge('fetch_recipe', 'format_response')\n",
        "\n",
        "# Define entry and finish points\n",
        "workflow.set_entry_point(\"extract_ingredients\")\n",
        "workflow.set_finish_point(\"format_response\")\n",
        "\n",
        "# Compile the app workflow\n",
        "app = workflow.compile()"
      ]
    },
    {
      "attachments": {},
      "cell_type": "markdown",
      "metadata": {
        "id": "vEBYO-2xPPkz"
      },
      "source": [
        "## Visualize the graph"
      ]
    },
    {
      "cell_type": "code",
      "execution_count": 10,
      "metadata": {
        "colab": {
          "base_uri": "https://localhost:8080/",
          "height": 449
        },
        "id": "tOiPk9Zvieof",
        "outputId": "e2dc9508-7b6e-4cb5-8abf-8cf753e2019c"
      },
      "outputs": [
        {
          "data": {
            "image/jpeg": "[encoded data removed]",
            "text/plain": [
              "<IPython.core.display.Image object>"
            ]
          },
          "metadata": {},
          "output_type": "display_data"
        }
      ],
      "source": [
        "from IPython.display import Image, display\n",
        "\n",
        "try:\n",
        "    display(Image(app.get_graph(xray=True).draw_mermaid_png()))\n",
        "except:\n",
        "    pass"
      ]
    },
    {
      "attachments": {},
      "cell_type": "markdown",
      "metadata": {},
      "source": [
        "## Sample outputs:"
      ]
    },
    {
      "cell_type": "code",
      "execution_count": 11,
      "metadata": {
        "id": "0iSYiKV_N0KV"
      },
      "outputs": [],
      "source": [
        "# User input for testing the app (e.g., user asking for a recipe)\n",
        "inputs = {\"messages\": [\"I have tomatoes and pasta. Can you suggest a recipe?\"]}"
      ]
    },
    {
      "cell_type": "code",
      "execution_count": 12,
      "metadata": {
        "colab": {
          "base_uri": "https://localhost:8080/"
        },
        "id": "RSHO0iW_N2Ks",
        "outputId": "63b7b148-a5c2-431f-d069-46a785727701"
      },
      "outputs": [
        {
          "name": "stdout",
          "output_type": "stream",
          "text": [
            "### Penne Arrabiata Recipe\n",
            "\n",
            "![Penne Arrabiata](https://img.spoonacular.com/recipes/655573-556x370.jpg)\n",
            "\n",
            "**Ready in:** 45 minutes  \n",
            "**Servings:** 4  \n",
            "**Source:** [Foodista](https://www.foodista.com/recipe/2Y82DVJR/penne-arrabiata)\n",
            "\n",
            "---\n",
            "\n",
            "#### Ingredients:\n",
            "- 1 teaspoon dried red pepper\n",
            "- 3 tablespoons olive oil\n",
            "- 5 cloves fresh garlic, minced\n",
            "- 2 tablespoons fresh Italian parsley, minced\n",
            "- 1 can (about 14 oz) chopped tomatoes (Pomi tomatoes recommended)\n",
            "- Salt (for boiling water)\n",
            "- 12 oz penne pasta\n",
            "- Fresh basil (for garnish)\n",
            "\n",
            "---\n",
            "\n",
            "#### Step-by-Step Instructions:\n",
            "\n",
            "1. **Boil Water:** Bring a large pot of salted water to a boil.\n",
            "   \n",
            "2. **Sauté Ingredients:** In a pan, sauté 1 teaspoon of dried red pepper in 3 tablespoons of olive oil.\n",
            "\n",
            "3. **Add Garlic and Parsley:** Once the oil is hot (but not smoking), add 5 cloves of minced garlic and 2 tablespoons of minced fresh Italian parsley. Sauté until fragrant.\n",
            "\n",
            "4. **Add Tomatoes:** Stir in 1 can of chopped tomatoes. Cover and cook until the sauce is heated through.\n",
            "\n",
            "5. **Cook Pasta:** Meanwhile, cook the penne in the boiling salted water until al dente. Drain the pasta.\n",
            "\n",
            "6. **Combine:** Add the drained penne to the sauce and mix thoroughly.\n",
            "\n",
            "7. **Garnish and Serve:** Just before serving, add some coarsely chopped fresh basil and a little more parsley. Serve immediately.\n",
            "\n",
            "Enjoy your delicious Penne Arrabiata!\n"
          ]
        }
      ],
      "source": [
        "# Invoke the app and get the response\n",
        "output = app.invoke(inputs)\n",
        "\n",
        "# Print the formatted response\n",
        "print(output)"
      ]
    },
    {
      "cell_type": "code",
      "execution_count": 13,
      "metadata": {
        "colab": {
          "base_uri": "https://localhost:8080/"
        },
        "id": "meKznFtjN3xF",
        "outputId": "f000c964-84ef-4daa-ba18-87742a10f5a1"
      },
      "outputs": [
        {
          "name": "stdout",
          "output_type": "stream",
          "text": [
            "Output from node 'extract_ingredients':\n",
            "---\n",
            "{'messages': ['I have tomatoes and pasta. Can you suggest a recipe?', 'Tomatoes, pasta.']}\n",
            "\n",
            "---\n",
            "\n",
            "Output from node 'fetch_recipe':\n",
            "---\n",
            "{'messages': ['I have tomatoes and pasta. Can you suggest a recipe?', 'Tomatoes, pasta.', '**Recipe:** Penne Arrabiata\\n**Image:** https://img.spoonacular.com/recipes/655573-556x370.jpg\\n**Ready in:** 45 minutes\\n**Servings:** 4\\n**Source:** https://www.foodista.com/recipe/2Y82DVJR/penne-arrabiata\\n\\n**Step-by-Step Instructions:**\\nStep 1: Bring a large pot of water to a boil.\\nStep 2: Saute about 1 teaspoon of dried red pepper in a 3 tbsp. olive oil.\\nStep 3: Add 5 cloves fresh minced garlic, 2 tbsp.Fresh Italian parsley, minced.When these ingredients are not, but not smoking, add 1 can tomatoes, chopped. (I like Pomi tomatoes which comes in a box). Stir, cover and cook untilthe sauce i heated. Cook the Penne in salted boiling water. Cook until al dante.\\nStep 4: Drain and add to sauce.\\nStep 5: Mix throughly Just before serving, add some coarsely chopped fresh basil and a little more parsley.\\nStep 6: Serve immediately.']}\n",
            "\n",
            "---\n",
            "\n",
            "Output from node 'format_response':\n",
            "---\n",
            "### Penne Arrabiata Recipe\n",
            "\n",
            "![Penne Arrabiata](https://img.spoonacular.com/recipes/655573-556x370.jpg)\n",
            "\n",
            "**Ready in:** 45 minutes  \n",
            "**Servings:** 4  \n",
            "**Source:** [Foodista](https://www.foodista.com/recipe/2Y82DVJR/penne-arrabiata)\n",
            "\n",
            "---\n",
            "\n",
            "#### Ingredients:\n",
            "- 1 teaspoon dried red pepper\n",
            "- 3 tablespoons olive oil\n",
            "- 5 cloves fresh garlic, minced\n",
            "- 2 tablespoons fresh Italian parsley, minced\n",
            "- 1 can (about 14 oz) chopped tomatoes (Pomi tomatoes recommended)\n",
            "- Salt (for boiling water)\n",
            "- 12 oz penne pasta\n",
            "- Fresh basil (for garnish)\n",
            "\n",
            "---\n",
            "\n",
            "#### Step-by-Step Instructions:\n",
            "\n",
            "1. **Boil Water:** Bring a large pot of salted water to a boil.\n",
            "   \n",
            "2. **Sauté Ingredients:** In a pan, sauté 1 teaspoon of dried red pepper in 3 tablespoons of olive oil.\n",
            "\n",
            "3. **Add Garlic and Parsley:** Once the oil is hot (but not smoking), add 5 cloves of minced garlic and 2 tablespoons of minced fresh Italian parsley. Sauté until fragrant.\n",
            "\n",
            "4. **Add Tomatoes:** Stir in 1 can of chopped tomatoes. Cover and cook until the sauce is heated through.\n",
            "\n",
            "5. **Cook Pasta:** Meanwhile, cook the penne in the boiling salted water until al dente. Drain the pasta.\n",
            "\n",
            "6. **Combine:** Add the drained penne to the sauce and mix thoroughly.\n",
            "\n",
            "7. **Garnish and Serve:** Just before serving, add some coarsely chopped fresh basil and a little more parsley. Serve immediately.\n",
            "\n",
            "---\n",
            "\n",
            "Enjoy your delicious Penne Arrabiata! 🍝\n",
            "\n",
            "---\n",
            "\n"
          ]
        }
      ],
      "source": [
        "# Streaming response example\n",
        "input_message = 'I have tomatoes and pasta. Can you suggest a recipe?'\n",
        "for output in app.stream({\"messages\": [input_message]}):\n",
        "    # stream() yields dictionaries with output keyed by node name\n",
        "    for key, value in output.items():\n",
        "        print(f\"Output from node '{key}':\")\n",
        "        print(\"---\")\n",
        "        print(value)\n",
        "    print(\"\\n---\\n\")"
      ]
    },
    {
      "attachments": {},
      "cell_type": "markdown",
      "metadata": {
        "id": "xIQv3ehzPpfr"
      },
      "source": [
        "## The above agent gives error if ingredients are not present in the input.\n",
        "# To make agent dynamic following changes must be done"
      ]
    },
    {
      "cell_type": "code",
      "execution_count": 15,
      "metadata": {
        "id": "vwGOrzAUspfH"
      },
      "outputs": [],
      "source": [
        "from typing import TypedDict, Annotated, Sequence\n",
        "import operator\n",
        "from langchain_core.messages import BaseMessage"
      ]
    },
    {
      "cell_type": "code",
      "execution_count": 16,
      "metadata": {
        "id": "BttEm6Y6KlNa"
      },
      "outputs": [],
      "source": [
        "class AgentState(TypedDict):\n",
        "    messages: Annotated[Sequence[BaseMessage], operator.add]"
      ]
    },
    {
      "attachments": {},
      "cell_type": "markdown",
      "metadata": {
        "id": "Rg5Pn8jvPcn7"
      },
      "source": [
        "## To make AI respond to other messages too\n",
        "\n",
        "By defining fetch_recipe_tools as tool\n",
        "And adding a conditional node"
      ]
    },
    {
      "cell_type": "code",
      "execution_count": 17,
      "metadata": {
        "colab": {
          "base_uri": "https://localhost:8080/"
        },
        "id": "M_L5mmtPKn55",
        "outputId": "cb9fa9b6-5e64-42a6-992b-2e235e54b76e"
      },
      "outputs": [
        {
          "name": "stderr",
          "output_type": "stream",
          "text": [
            "<ipython-input-17-2f05da2ab528>:72: LangGraphDeprecationWarning: ToolExecutor is deprecated as of version 0.2.0 and will be removed in 0.3.0. Use langgraph.prebuilt.ToolNode instead.\n",
            "  tool_executor = ToolExecutor(tools)\n"
          ]
        }
      ],
      "source": [
        "import json\n",
        "from langchain.tools import BaseTool\n",
        "import requests\n",
        "from langchain_core.messages import FunctionMessage\n",
        "from langgraph.prebuilt import ToolInvocation, ToolExecutor\n",
        "from langgraph.graph import StateGraph, END\n",
        "\n",
        "from langchain.tools import BaseTool\n",
        "import requests\n",
        "\n",
        "# Define your FetchRecipeTool similar to other tools\n",
        "class FetchRecipeTool(BaseTool):\n",
        "    name: str = \"fetch_recipe_tool\"  \n",
        "    description: str = \"Fetch a recipe based on provided ingredients and return in cookbook format.\"  # Add type annotation\n",
        "\n",
        "    def _run(self, ingredients: str) -> str:\n",
        "        url = f\"https://api.spoonacular.com/recipes/findByIngredients?ingredients={ingredients}&number=1&apiKey={api_key}\"\n",
        "        response = requests.get(url)\n",
        "\n",
        "        if response.status_code == 200:\n",
        "            recipe_data = response.json()\n",
        "            if recipe_data:\n",
        "                recipe = recipe_data[0]\n",
        "                recipe_id = recipe.get('id')\n",
        "                details_url = f\"https://api.spoonacular.com/recipes/{recipe_id}/information?apiKey={api_key}\"\n",
        "                details_response = requests.get(details_url)\n",
        "\n",
        "                if details_response.status_code == 200:\n",
        "                    details_data = details_response.json()\n",
        "                    title = details_data.get('title', 'Unknown Title')\n",
        "                    image = details_data.get('image', 'No image available')\n",
        "                    ready_in_minutes = details_data.get('readyInMinutes', 'Unknown')\n",
        "                    servings = details_data.get('servings', 'Unknown')\n",
        "                    source_url = details_data.get('sourceUrl', 'No source available')\n",
        "\n",
        "                    # Extract step-by-step instructions in a cookbook format\n",
        "                    analyzed_instructions = details_data.get('analyzedInstructions', [])\n",
        "                    steps = []\n",
        "                    if analyzed_instructions:\n",
        "                        for instruction in analyzed_instructions:\n",
        "                            for step in instruction.get('steps', []):\n",
        "                                steps.append(f\"Step {step['number']}: {step['step']}\")\n",
        "\n",
        "                    if not steps:\n",
        "                        steps.append(\"No instructions available\")\n",
        "\n",
        "                    # Format the recipe information\n",
        "                    recipe_info = (\n",
        "                        f\"**Recipe:** {title}\\n\"\n",
        "                        f\"**Image:** {image}\\n\"\n",
        "                        f\"**Ready in:** {ready_in_minutes} minutes\\n\"\n",
        "                        f\"**Servings:** {servings}\\n\"\n",
        "                        f\"**Source:** {source_url}\\n\\n\"\n",
        "                        \"**Step-by-Step Instructions:**\\n\"\n",
        "                        + \"\\n\".join(steps)\n",
        "                    )\n",
        "                else:\n",
        "                    recipe_info = \"Error fetching detailed recipe information.\"\n",
        "            else:\n",
        "                recipe_info = \"No recipe found for the given ingredients.\"\n",
        "        else:\n",
        "            recipe_info = \"Error fetching the recipe.\"\n",
        "\n",
        "        return recipe_info\n",
        "\n",
        "    def _arun(self, ingredients: str) -> str:\n",
        "        raise NotImplementedError(\"Async method not implemented.\")\n",
        "\n",
        "\n",
        "# Initialize the tool executor with your custom tool\n",
        "tools = [FetchRecipeTool()]\n",
        "tool_executor = ToolExecutor(tools)\n",
        "\n",
        "# Define function_1 for handling message processing with the agent\n",
        "def function_1(state):\n",
        "    messages = state['messages']\n",
        "    response = model.invoke(messages)\n",
        "    return {\"messages\": [response]}\n",
        "\n",
        "# Define function_2 for invoking the recipe tool\n",
        "def function_2(state):\n",
        "    messages = state['messages']\n",
        "    last_message = messages[-1]  \n",
        "\n",
        "    # Parse the tool input from the function call\n",
        "    parsed_tool_input = json.loads(last_message.additional_kwargs[\"function_call\"][\"arguments\"])\n",
        "\n",
        "    # Construct a ToolInvocation from the function_call and pass in the tool name and expected input\n",
        "    action = ToolInvocation(\n",
        "        tool=last_message.additional_kwargs[\"function_call\"][\"name\"],\n",
        "        tool_input=parsed_tool_input['__arg1'],\n",
        "    )\n",
        "\n",
        "    # Invoke the tool executor to get a response\n",
        "    response = tool_executor.invoke(action)\n",
        "\n",
        "    # Create a FunctionMessage based on the response\n",
        "    function_message = FunctionMessage(content=str(response), name=action.tool)\n",
        "\n",
        "    # Return a list of messages\n",
        "    return {\"messages\": [function_message]}\n",
        "\n",
        "# Define where_to_go for conditional execution\n",
        "def where_to_go(state):\n",
        "    messages = state['messages']\n",
        "    last_message = messages[-1]\n",
        "\n",
        "    # Check if \"function_call\" is present in the last message\n",
        "    if \"function_call\" in last_message.additional_kwargs:\n",
        "        return \"continue\"\n",
        "    else:\n",
        "        return \"end\"\n",
        "\n",
        "# Set up the workflow using StateGraph\n",
        "workflow = StateGraph(AgentState)\n",
        "\n",
        "# Add nodes for agent and tool function execution\n",
        "workflow.add_node(\"agent\", function_1)\n",
        "workflow.add_node(\"tool\", function_2)\n",
        "\n",
        "# Add conditional edges based on where_to_go\n",
        "workflow.add_conditional_edges(\n",
        "    \"agent\",\n",
        "    where_to_go, {\n",
        "        \"continue\": \"tool\",\n",
        "        \"end\": END\n",
        "    }\n",
        ")\n",
        "\n",
        "# Add an edge for calling the agent after the tool\n",
        "workflow.add_edge('tool', 'agent')\n",
        "\n",
        "# Set the entry point of the workflow\n",
        "workflow.set_entry_point(\"agent\")\n",
        "\n",
        "app = workflow.compile()\n"
      ]
    },
    {
      "attachments": {},
      "cell_type": "markdown",
      "metadata": {
        "id": "rPiQhsjbP9R0"
      },
      "source": [
        "## Visualize the graph"
      ]
    },
    {
      "cell_type": "code",
      "execution_count": 18,
      "metadata": {
        "colab": {
          "base_uri": "https://localhost:8080/",
          "height": 290
        },
        "id": "tNm7aihQM9Dq",
        "outputId": "72779c58-91ef-44f6-a79f-65005fffbf77"
      },
      "outputs": [
        {
          "data": {
            "image/jpeg": "[encoded data removed]",
            "text/plain": [
              "<IPython.core.display.Image object>"
            ]
          },
          "metadata": {},
          "output_type": "display_data"
        }
      ],
      "source": [
        "from IPython.display import Image, display\n",
        "\n",
        "try:\n",
        "    display(Image(app.get_graph(xray=True).draw_mermaid_png()))\n",
        "except:\n",
        "    pass"
      ]
    },
    {
      "attachments": {},
      "cell_type": "markdown",
      "metadata": {},
      "source": [
        "#### Sample response with input not being"
      ]
    },
    {
      "cell_type": "code",
      "execution_count": 19,
      "metadata": {
        "colab": {
          "base_uri": "https://localhost:8080/"
        },
        "id": "LrpSc7zUMe1Z",
        "outputId": "92d422a5-da2e-4fb1-bd9a-0185e3213979"
      },
      "outputs": [
        {
          "data": {
            "text/plain": [
              "{'messages': [HumanMessage(content='Hello', additional_kwargs={}, response_metadata={}),\n",
              "  AIMessage(content='Hello! How can I assist you today?', additional_kwargs={'refusal': None}, response_metadata={'token_usage': {'completion_tokens': 9, 'prompt_tokens': 8, 'total_tokens': 17, 'completion_tokens_details': {'audio_tokens': None, 'reasoning_tokens': 0}, 'prompt_tokens_details': None}, 'model_name': 'gpt-4o-mini-2024-07-18', 'system_fingerprint': 'fp_f85bea6784', 'finish_reason': 'stop', 'logprobs': None}, id='run-abd0c326-847f-4f83-9d37-81dfd01ba74b-0', usage_metadata={'input_tokens': 8, 'output_tokens': 9, 'total_tokens': 17, 'input_token_details': {}, 'output_token_details': {'reasoning': 0}})]}"
            ]
          },
          "execution_count": 19,
          "metadata": {},
          "output_type": "execute_result"
        }
      ],
      "source": [
        "from langchain_core.messages import HumanMessage\n",
        "\n",
        "inputs = {\"messages\": [HumanMessage(content=\"Hello\")]}\n",
        "app.invoke(inputs)"
      ]
    },
    {
      "cell_type": "code",
      "execution_count": 20,
      "metadata": {
        "colab": {
          "base_uri": "https://localhost:8080/"
        },
        "id": "CvT1xgnhNLMq",
        "outputId": "ee814dcc-9649-4757-86d4-00b7d09484f5"
      },
      "outputs": [
        {
          "name": "stdout",
          "output_type": "stream",
          "text": [
            "Output from node 'agent':\n",
            "---\n",
            "{'messages': [AIMessage(content='Absolutely! Here’s a simple and delicious recipe for **Tomato Pasta** that you can make with just tomatoes and pasta, along with a few common pantry ingredients.\\n\\n### Tomato Pasta Recipe\\n\\n#### Ingredients:\\n- 8 oz (about 225g) pasta (spaghetti, penne, or your choice)\\n- 4-5 ripe tomatoes (or a can of diced tomatoes)\\n- 2-3 cloves garlic, minced\\n- 2 tablespoons olive oil\\n- Salt and pepper to taste\\n- Fresh basil or parsley (optional, for garnish)\\n- Grated Parmesan cheese (optional)\\n\\n#### Instructions:\\n\\n1. **Cook the Pasta:**\\n   - Bring a large pot of salted water to a boil. Add the pasta and cook according to package instructions until al dente. Reserve about 1 cup of pasta water, then drain the pasta.\\n\\n2. **Prepare the Tomato Sauce:**\\n   - While the pasta is cooking, chop the fresh tomatoes (if using fresh) or open the can of diced tomatoes.\\n   - In a large skillet, heat the olive oil over medium heat. Add the minced garlic and sauté for about 1 minute until fragrant, being careful not to burn it.\\n   - Add the chopped tomatoes to the skillet. If using canned tomatoes, add them directly. Cook for about 5-7 minutes, stirring occasionally, until the tomatoes break down and create a sauce. If the sauce is too thick, you can add a bit of the reserved pasta water to reach your desired consistency.\\n\\n3. **Combine Pasta and Sauce:**\\n   - Add the drained pasta to the skillet with the tomato sauce. Toss to combine, adding more reserved pasta water if needed to help the sauce coat the pasta evenly. Season with salt and pepper to taste.\\n\\n4. **Serve:**\\n   - Plate the pasta and garnish with fresh basil or parsley if desired. You can also sprinkle some grated Parmesan cheese on top for extra flavor.\\n\\n5. **Enjoy!**\\n\\nFeel free to customize this recipe by adding other ingredients you might have on hand, such as onions, bell peppers, or even some protein like chicken or shrimp. Enjoy your meal!', additional_kwargs={'refusal': None}, response_metadata={'token_usage': {'completion_tokens': 435, 'prompt_tokens': 19, 'total_tokens': 454, 'completion_tokens_details': {'audio_tokens': None, 'reasoning_tokens': 0}, 'prompt_tokens_details': None}, 'model_name': 'gpt-4o-mini-2024-07-18', 'system_fingerprint': 'fp_f85bea6784', 'finish_reason': 'stop', 'logprobs': None}, id='run-539130da-fb8a-4c04-a3b0-79d5842bb4e6-0', usage_metadata={'input_tokens': 19, 'output_tokens': 435, 'total_tokens': 454, 'input_token_details': {}, 'output_token_details': {'reasoning': 0}})]}\n",
            "\n",
            "---\n",
            "\n"
          ]
        }
      ],
      "source": [
        "inputs = {\"messages\": [HumanMessage(content=\"I have tomatoes and pasta. Can you suggest a recipe?\")]}\n",
        "for output in app.stream(inputs):\n",
        "    # stream() yields dictionaries with output keyed by node name\n",
        "    for key, value in output.items():\n",
        "        print(f\"Output from node '{key}':\")\n",
        "        print(\"---\")\n",
        "        print(value)\n",
        "    print(\"\\n---\\n\")"
      ]
    },
    {
      "attachments": {},
      "cell_type": "markdown",
      "metadata": {
        "id": "l0ivLvpxspMX"
      },
      "source": []
    },
    {
      "attachments": {},
      "cell_type": "markdown",
      "metadata": {
        "id": "Str8P4jCQcuD"
      },
      "source": [
        "## Another method"
      ]
    },
    {
      "cell_type": "code",
      "execution_count": 21,
      "metadata": {
        "colab": {
          "base_uri": "https://localhost:8080/"
        },
        "id": "LTdumyajQzTi",
        "outputId": "120b6e41-3a03-4fd9-f4df-640d2de1926c"
      },
      "outputs": [
        {
          "name": "stderr",
          "output_type": "stream",
          "text": [
            "<ipython-input-21-9dafc9f747d7>:70: LangGraphDeprecationWarning: ToolExecutor is deprecated as of version 0.2.0 and will be removed in 0.3.0. Use langgraph.prebuilt.ToolNode instead.\n",
            "  tool_executor = ToolExecutor(tools)\n"
          ]
        }
      ],
      "source": [
        "import json\n",
        "from langchain.tools import BaseTool\n",
        "import requests\n",
        "from langchain_core.messages import FunctionMessage\n",
        "from langgraph.prebuilt import ToolInvocation, ToolExecutor\n",
        "from langgraph.graph import StateGraph, END\n",
        "import re\n",
        "\n",
        "# Define your FetchRecipeTool\n",
        "class FetchRecipeTool(BaseTool):\n",
        "    name: str = \"fetch_recipe_tool\"\n",
        "    description: str = \"Fetch a recipe based on provided ingredients and return in cookbook format.\"\n",
        "\n",
        "    def _run(self, ingredients: str) -> str:\n",
        "        url = f\"https://api.spoonacular.com/recipes/findByIngredients?ingredients={ingredients}&number=1&apiKey={api_key}\"\n",
        "        response = requests.get(url)\n",
        "\n",
        "        if response.status_code == 200:\n",
        "            recipe_data = response.json()\n",
        "            if recipe_data:\n",
        "                recipe = recipe_data[0]\n",
        "                recipe_id = recipe.get('id')\n",
        "                details_url = f\"https://api.spoonacular.com/recipes/{recipe_id}/information?apiKey={api_key}\"\n",
        "                details_response = requests.get(details_url)\n",
        "\n",
        "                if details_response.status_code == 200:\n",
        "                    details_data = details_response.json()\n",
        "                    title = details_data.get('title', 'Unknown Title')\n",
        "                    image = details_data.get('image', 'No image available')\n",
        "                    ready_in_minutes = details_data.get('readyInMinutes', 'Unknown')\n",
        "                    servings = details_data.get('servings', 'Unknown')\n",
        "                    source_url = details_data.get('sourceUrl', 'No source available')\n",
        "\n",
        "                    # Extract step-by-step instructions in a cookbook format\n",
        "                    analyzed_instructions = details_data.get('analyzedInstructions', [])\n",
        "                    steps = []\n",
        "                    if analyzed_instructions:\n",
        "                        for instruction in analyzed_instructions:\n",
        "                            for step in instruction.get('steps', []):\n",
        "                                steps.append(f\"Step {step['number']}: {step['step']}\")\n",
        "\n",
        "                    if not steps:\n",
        "                        steps.append(\"No instructions available\")\n",
        "\n",
        "                    # Format the recipe information\n",
        "                    recipe_info = (\n",
        "                        f\"**Recipe:** {title}\\n\"\n",
        "                        f\"**Image:** {image}\\n\"\n",
        "                        f\"**Ready in:** {ready_in_minutes} minutes\\n\"\n",
        "                        f\"**Servings:** {servings}\\n\"\n",
        "                        f\"**Source:** {source_url}\\n\\n\"\n",
        "                        \"**Step-by-Step Instructions:**\\n\"\n",
        "                        + \"\\n\".join(steps)\n",
        "                    )\n",
        "                else:\n",
        "                    recipe_info = \"Error fetching detailed recipe information.\"\n",
        "            else:\n",
        "                recipe_info = \"No recipe found for the given ingredients.\"\n",
        "        else:\n",
        "            recipe_info = \"Error fetching the recipe.\"\n",
        "\n",
        "        return recipe_info\n",
        "\n",
        "    def _arun(self, ingredients: str) -> str:\n",
        "        raise NotImplementedError(\"Async method not implemented.\")\n",
        "\n",
        "\n",
        "# Initialize the tool executor with your custom tool\n",
        "tools = [FetchRecipeTool()]\n",
        "tool_executor = ToolExecutor(tools)\n",
        "\n",
        "\n",
        "\n"
      ]
    },
    {
      "cell_type": "code",
      "execution_count": 22,
      "metadata": {
        "id": "uUzDdss5TBm6"
      },
      "outputs": [],
      "source": [
        "import re\n",
        "from langchain_core.messages import HumanMessage\n",
        "from langchain_core.messages import FunctionMessage\n",
        "from langgraph.prebuilt import ToolNode\n",
        "\n",
        "# Step 1: Define a function to extract ingredients from the input\n",
        "def extract_ingredients(message_content):\n",
        "    # Example pattern \n",
        "    ingredients_pattern = r\"\\b(?:tomato|onion|garlic|potato|chicken|rice|carrot|pepper|salt|sugar|egg|milk|cheese|butter|flour|oil)\\b\"\n",
        "    matches = re.findall(ingredients_pattern, message_content, flags=re.IGNORECASE)\n",
        "\n",
        "    if matches:\n",
        "        return ', '.join(set(matches))  # Return a comma-separated list of unique ingredients\n",
        "    return None\n",
        "\n",
        "# Step 2: Define the reasoning function to analyze the initial state and extract ingredients\n",
        "def reasoning_function(state):\n",
        "    messages = state['messages']\n",
        "    last_message = messages[-1]  \n",
        "    if isinstance(last_message, HumanMessage):\n",
        "        last_message_content = last_message.content\n",
        "    else:\n",
        "        last_message_content = \"\"\n",
        "\n",
        "    ingredients = extract_ingredients(last_message_content)\n",
        "    if ingredients:\n",
        "\n",
        "        return {\"messages\": [HumanMessage(content=f\"Ingredients found: {ingredients}. Fetching a recipe for you...\")], \"ingredients\": ingredients, \"type\": \"extracted\"}\n",
        "    else:\n",
        "        return {\"messages\": [HumanMessage(content=\"No ingredients found. Proceeding with general response...\")], \"type\": \"general_query\"}\n",
        "\n",
        "# Step 3: Define function_1 for handling general AI responses\n",
        "def function_1(state):\n",
        "    messages = state['messages']\n",
        "    response = model.invoke(messages) \n",
        "    return {\"messages\": [response]}\n",
        "\n",
        "# Step 4: Define function_2 for invoking the recipe tool\n",
        "def function_2(state):\n",
        "    ingredients = state.get('ingredients')  \n",
        "\n",
        "    if ingredients:\n",
        "\n",
        "        tool_node = ToolNode(tool=\"fetch_recipe_tool\", tool_input=ingredients)\n",
        "\n",
        "\n",
        "        response = tool_executor.invoke(tool_node)\n",
        "\n",
        "\n",
        "        function_message = FunctionMessage(content=str(response), name=tool_node.tool)\n",
        "\n",
        "        return {\"messages\": [function_message]}\n",
        "\n",
        "# Step 5: Define where_to_go to decide between tool usage and normal response\n",
        "def where_to_go(state):\n",
        "    if state.get(\"type\") == \"extracted\":\n",
        "        return \"tool\"\n",
        "    else:\n",
        "        return \"agent\"\n",
        "\n",
        "workflow = StateGraph(AgentState)\n",
        "\n",
        "workflow.add_node(\"reasoning\", reasoning_function)\n",
        "workflow.add_node(\"agent\", function_1)\n",
        "workflow.add_node(\"tool\", function_2)\n",
        "\n",
        "workflow.add_conditional_edges(\n",
        "    \"reasoning\",\n",
        "    where_to_go, {\n",
        "        \"tool\": \"tool\",\n",
        "        \"agent\": \"agent\"\n",
        "    }\n",
        ")\n",
        "\n",
        "\n",
        "workflow.add_edge('tool', 'agent')\n",
        "\n",
        "workflow.set_entry_point(\"reasoning\")\n",
        "\n",
        "app = workflow.compile()"
      ]
    },
    {
      "cell_type": "code",
      "execution_count": 23,
      "metadata": {
        "colab": {
          "base_uri": "https://localhost:8080/",
          "height": 350
        },
        "id": "VnC2XSoPQ6jx",
        "outputId": "78936a84-c10b-4e0f-97df-3b97509e966b"
      },
      "outputs": [
        {
          "data": {
            "image/jpeg": "[encoded data removed]",
            "text/plain": [
              "<IPython.core.display.Image object>"
            ]
          },
          "metadata": {},
          "output_type": "display_data"
        }
      ],
      "source": [
        "from IPython.display import Image, display\n",
        "\n",
        "try:\n",
        "    display(Image(app.get_graph(xray=True).draw_mermaid_png()))\n",
        "except:\n",
        "    pass"
      ]
    },
    {
      "attachments": {},
      "cell_type": "markdown",
      "metadata": {},
      "source": [
        "#### Sample responses"
      ]
    },
    {
      "cell_type": "code",
      "execution_count": 24,
      "metadata": {
        "colab": {
          "base_uri": "https://localhost:8080/"
        },
        "id": "-jQjUbXmQ99t",
        "outputId": "eabe00a6-9356-4029-f8f7-f1bc7e758a54"
      },
      "outputs": [
        {
          "data": {
            "text/plain": [
              "{'messages': [HumanMessage(content='I have tomatoes, onions, and chicken. Can you suggest a recipe?', additional_kwargs={}, response_metadata={}),\n",
              "  HumanMessage(content='Ingredients found: chicken. Fetching a recipe for you...', additional_kwargs={}, response_metadata={}),\n",
              "  AIMessage(content='Sure! Here’s a simple and delicious recipe for **Chicken with Tomatoes and Onions**:\\n\\n### Ingredients:\\n- 2 chicken breasts (or thighs)\\n- 2 medium tomatoes, diced\\n- 1 large onion, sliced\\n- 2-3 cloves of garlic, minced (optional)\\n- 2 tablespoons olive oil\\n- Salt and pepper to taste\\n- 1 teaspoon dried oregano (or Italian seasoning)\\n- Fresh basil or parsley for garnish (optional)\\n\\n### Instructions:\\n\\n1. **Prepare the Chicken**: Season the chicken breasts with salt, pepper, and oregano on both sides.\\n\\n2. **Sauté the Onions**: In a large skillet, heat the olive oil over medium heat. Add the sliced onions and cook until they are soft and translucent, about 5-7 minutes. If using garlic, add it in the last minute of cooking the onions.\\n\\n3. **Cook the Chicken**: Push the onions to the side of the skillet and add the chicken breasts. Cook for about 5-7 minutes on each side, or until the chicken is browned and cooked through (internal temperature should reach 165°F or 75°C).\\n\\n4. **Add Tomatoes**: Once the chicken is cooked, add the diced tomatoes to the skillet. Stir everything together and let it simmer for about 5-10 minutes, allowing the flavors to meld and the tomatoes to break down slightly.\\n\\n5. **Serve**: Taste and adjust seasoning if necessary. Serve the chicken topped with the tomato and onion mixture. Garnish with fresh basil or parsley if desired.\\n\\n### Serving Suggestions:\\nThis dish pairs well with rice, pasta, or a side of crusty bread to soak up the delicious juices.\\n\\nEnjoy your meal!', additional_kwargs={'refusal': None}, response_metadata={'token_usage': {'completion_tokens': 350, 'prompt_tokens': 38, 'total_tokens': 388, 'completion_tokens_details': {'audio_tokens': None, 'reasoning_tokens': 0}, 'prompt_tokens_details': None}, 'model_name': 'gpt-4o-mini-2024-07-18', 'system_fingerprint': 'fp_f85bea6784', 'finish_reason': 'stop', 'logprobs': None}, id='run-0c943010-091f-4ae0-bcbb-abc5e8147881-0', usage_metadata={'input_tokens': 38, 'output_tokens': 350, 'total_tokens': 388, 'input_token_details': {}, 'output_token_details': {'reasoning': 0}})]}"
            ]
          },
          "execution_count": 24,
          "metadata": {},
          "output_type": "execute_result"
        }
      ],
      "source": [
        "from langchain_core.messages import HumanMessage\n",
        "\n",
        "inputs = {\"messages\": [HumanMessage(content=\"I have tomatoes, onions, and chicken. Can you suggest a recipe?\")]}\n",
        "app.invoke(inputs)"
      ]
    },
    {
      "cell_type": "code",
      "execution_count": 25,
      "metadata": {
        "colab": {
          "base_uri": "https://localhost:8080/"
        },
        "id": "kywN1Qz6RRfF",
        "outputId": "137883cf-9378-458b-9613-8a4aff74c8bf"
      },
      "outputs": [
        {
          "data": {
            "text/plain": [
              "{'messages': [HumanMessage(content='Hello', additional_kwargs={}, response_metadata={}),\n",
              "  HumanMessage(content='No ingredients found. Proceeding with general response...', additional_kwargs={}, response_metadata={}),\n",
              "  AIMessage(content='Hello! How can I assist you today?', additional_kwargs={'refusal': None}, response_metadata={'token_usage': {'completion_tokens': 9, 'prompt_tokens': 22, 'total_tokens': 31, 'completion_tokens_details': {'audio_tokens': None, 'reasoning_tokens': 0}, 'prompt_tokens_details': {'audio_tokens': None, 'cached_tokens': 0}}, 'model_name': 'gpt-4o-mini-2024-07-18', 'system_fingerprint': 'fp_f85bea6784', 'finish_reason': 'stop', 'logprobs': None}, id='run-1d89dff2-94d5-458b-897f-63630623e012-0', usage_metadata={'input_tokens': 22, 'output_tokens': 9, 'total_tokens': 31, 'input_token_details': {'cache_read': 0}, 'output_token_details': {'reasoning': 0}})]}"
            ]
          },
          "execution_count": 25,
          "metadata": {},
          "output_type": "execute_result"
        }
      ],
      "source": [
        "inputs = {\"messages\": [HumanMessage(content=\"Hello\")]}\n",
        "app.invoke(inputs)"
      ]
    },
    {
      "cell_type": "code",
      "execution_count": null,
      "metadata": {
        "id": "hdjvuEkXTjOP"
      },
      "outputs": [],
      "source": []
    }
  ],
  "metadata": {
    "colab": {
      "provenance": []
    },
    "kernelspec": {
      "display_name": "Python 3",
      "name": "python3"
    },
    "language_info": {
      "name": "python"
    }
  },
  "nbformat": 4,
  "nbformat_minor": 0
}
